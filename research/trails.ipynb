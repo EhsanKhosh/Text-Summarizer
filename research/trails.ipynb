{
 "cells": [
  {
   "cell_type": "code",
   "execution_count": 1,
   "metadata": {},
   "outputs": [
    {
     "name": "stdout",
     "output_type": "stream",
     "text": [
      "CUDA is available! You can use the GPU.\n"
     ]
    }
   ],
   "source": [
    "import torch\n",
    "\n",
    "# Check if CUDA (GPU support) is available\n",
    "if torch.cuda.is_available():\n",
    "    print(\"CUDA is available! You can use the GPU.\")\n",
    "else:\n",
    "    print(\"CUDA is not available. You can use CPU for computation.\")\n"
   ]
  },
  {
   "cell_type": "code",
   "execution_count": 2,
   "metadata": {},
   "outputs": [
    {
     "name": "stdout",
     "output_type": "stream",
     "text": [
      "Sun Apr  7 17:29:33 2024       \n",
      "+---------------------------------------------------------------------------------------+\n",
      "| NVIDIA-SMI 535.104.05             Driver Version: 535.104.05   CUDA Version: 12.2     |\n",
      "|-----------------------------------------+----------------------+----------------------+\n",
      "| GPU  Name                 Persistence-M | Bus-Id        Disp.A | Volatile Uncorr. ECC |\n",
      "| Fan  Temp   Perf          Pwr:Usage/Cap |         Memory-Usage | GPU-Util  Compute M. |\n",
      "|                                         |                      |               MIG M. |\n",
      "|=========================================+======================+======================|\n",
      "|   0  NVIDIA GeForce GTX 960M        On  | 00000000:01:00.0 Off |                  N/A |\n",
      "| N/A   39C    P8              N/A / 200W |      7MiB /  4096MiB |      0%      Default |\n",
      "|                                         |                      |                  N/A |\n",
      "+-----------------------------------------+----------------------+----------------------+\n",
      "                                                                                         \n",
      "+---------------------------------------------------------------------------------------+\n",
      "| Processes:                                                                            |\n",
      "|  GPU   GI   CI        PID   Type   Process name                            GPU Memory |\n",
      "|        ID   ID                                                             Usage      |\n",
      "|=======================================================================================|\n",
      "|    0   N/A  N/A      3166      G   /usr/lib/xorg/Xorg                            2MiB |\n",
      "+---------------------------------------------------------------------------------------+\n"
     ]
    }
   ],
   "source": [
    "!nvidia-smi\n"
   ]
  },
  {
   "cell_type": "code",
   "execution_count": 3,
   "metadata": {},
   "outputs": [
    {
     "ename": "AttributeError",
     "evalue": "'torch._C._CudaDeviceProperties' object has no attribute 'free_memory'",
     "output_type": "error",
     "traceback": [
      "\u001b[0;31m---------------------------------------------------------------------------\u001b[0m",
      "\u001b[0;31mAttributeError\u001b[0m                            Traceback (most recent call last)",
      "Cell \u001b[0;32mIn[3], line 9\u001b[0m\n\u001b[1;32m      6\u001b[0m total_memory \u001b[38;5;241m=\u001b[39m torch\u001b[38;5;241m.\u001b[39mcuda\u001b[38;5;241m.\u001b[39mget_device_properties(cuda_device)\u001b[38;5;241m.\u001b[39mtotal_memory\n\u001b[1;32m      8\u001b[0m \u001b[38;5;66;03m# Get the amount of free memory on the CUDA device\u001b[39;00m\n\u001b[0;32m----> 9\u001b[0m free_memory \u001b[38;5;241m=\u001b[39m \u001b[43mtorch\u001b[49m\u001b[38;5;241;43m.\u001b[39;49m\u001b[43mcuda\u001b[49m\u001b[38;5;241;43m.\u001b[39;49m\u001b[43mget_device_properties\u001b[49m\u001b[43m(\u001b[49m\u001b[43mcuda_device\u001b[49m\u001b[43m)\u001b[49m\u001b[38;5;241;43m.\u001b[39;49m\u001b[43mfree_memory\u001b[49m\n\u001b[1;32m     11\u001b[0m \u001b[38;5;66;03m# Calculate the amount of used memory\u001b[39;00m\n\u001b[1;32m     12\u001b[0m used_memory \u001b[38;5;241m=\u001b[39m total_memory \u001b[38;5;241m-\u001b[39m free_memory\n",
      "\u001b[0;31mAttributeError\u001b[0m: 'torch._C._CudaDeviceProperties' object has no attribute 'free_memory'"
     ]
    }
   ],
   "source": [
    "if torch.cuda.is_available():\n",
    "    # Get the current CUDA device\n",
    "    cuda_device = torch.cuda.current_device()\n",
    "    \n",
    "    # Get the total memory of the CUDA device\n",
    "    total_memory = torch.cuda.get_device_properties(cuda_device).total_memory\n",
    "    \n",
    "    # Get the amount of free memory on the CUDA device\n",
    "    free_memory = torch.cuda.get_device_properties(cuda_device).free_memory\n",
    "    \n",
    "    # Calculate the amount of used memory\n",
    "    used_memory = total_memory - free_memory\n",
    "    \n",
    "    # Print the memory information\n",
    "    print(f\"Total GPU Memory: {total_memory / 1024**3:.2f} GB\")\n",
    "    print(f\"Free GPU Memory: {free_memory / 1024**3:.2f} GB\")\n",
    "    print(f\"Used GPU Memory: {used_memory / 1024**3:.2f} GB\")\n",
    "else:\n",
    "    print(\"CUDA is not available. You can use CPU for computation.\")"
   ]
  },
  {
   "cell_type": "code",
   "execution_count": 4,
   "metadata": {},
   "outputs": [],
   "source": [
    "cuda_device = torch.cuda.current_device()\n",
    "    \n",
    "    # Get the total memory of the CUDA device\n",
    "total_memory = torch.cuda.get_device_properties(cuda_device)"
   ]
  },
  {
   "cell_type": "code",
   "execution_count": 5,
   "metadata": {},
   "outputs": [
    {
     "data": {
      "text/plain": [
       "_CudaDeviceProperties(name='NVIDIA GeForce GTX 960M', major=5, minor=0, total_memory=4044MB, multi_processor_count=5)"
      ]
     },
     "execution_count": 5,
     "metadata": {},
     "output_type": "execute_result"
    }
   ],
   "source": [
    "total_memory"
   ]
  },
  {
   "cell_type": "code",
   "execution_count": 6,
   "metadata": {},
   "outputs": [
    {
     "name": "stdout",
     "output_type": "stream",
     "text": [
      "Total GPU Memory: 3.95 GB\n",
      "Used GPU Memory: 0.00 GB\n",
      "Free GPU Memory: 3.95 GB\n"
     ]
    }
   ],
   "source": [
    "\n",
    "\n",
    "# Check if CUDA (GPU support) is available\n",
    "if torch.cuda.is_available():\n",
    "    # Get the current CUDA device\n",
    "    cuda_device = torch.cuda.current_device()\n",
    "    \n",
    "    # Get the total memory of the CUDA device\n",
    "    total_memory = torch.cuda.get_device_properties(cuda_device).total_memory\n",
    "    \n",
    "    # Allocate a small tensor to check the used memory\n",
    "    dummy_tensor = torch.zeros((1, 1))\n",
    "    used_memory = torch.cuda.memory_allocated(cuda_device)\n",
    "    \n",
    "    # Calculate the amount of free memory\n",
    "    free_memory = total_memory - used_memory\n",
    "    \n",
    "    # Print the memory information\n",
    "    print(f\"Total GPU Memory: {total_memory / 1024**3:.2f} GB\")\n",
    "    print(f\"Used GPU Memory: {used_memory / 1024**3:.2f} GB\")\n",
    "    print(f\"Free GPU Memory: {free_memory / 1024**3:.2f} GB\")\n",
    "else:\n",
    "    print(\"CUDA is not available. You can use CPU for computation.\")\n"
   ]
  },
  {
   "cell_type": "code",
   "execution_count": null,
   "metadata": {},
   "outputs": [],
   "source": []
  }
 ],
 "metadata": {
  "kernelspec": {
   "display_name": "TextSummerizer",
   "language": "python",
   "name": "python3"
  },
  "language_info": {
   "codemirror_mode": {
    "name": "ipython",
    "version": 3
   },
   "file_extension": ".py",
   "mimetype": "text/x-python",
   "name": "python",
   "nbconvert_exporter": "python",
   "pygments_lexer": "ipython3",
   "version": "3.11.4"
  }
 },
 "nbformat": 4,
 "nbformat_minor": 2
}
