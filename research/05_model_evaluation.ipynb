{
 "cells": [
  {
   "cell_type": "code",
   "execution_count": 1,
   "metadata": {},
   "outputs": [],
   "source": [
    "import os"
   ]
  },
  {
   "cell_type": "code",
   "execution_count": 2,
   "metadata": {},
   "outputs": [],
   "source": [
    "os.chdir('../')"
   ]
  },
  {
   "cell_type": "code",
   "execution_count": 3,
   "metadata": {},
   "outputs": [
    {
     "data": {
      "text/plain": [
       "'/home/ehsan/PycharmProjects/TextSummarizer/Text-Summarizer'"
      ]
     },
     "execution_count": 3,
     "metadata": {},
     "output_type": "execute_result"
    }
   ],
   "source": [
    "%pwd"
   ]
  },
  {
   "cell_type": "code",
   "execution_count": 4,
   "metadata": {},
   "outputs": [],
   "source": [
    "from dataclasses import dataclass\n",
    "from pathlib import Path\n",
    "\n",
    "@dataclass(frozen=True)\n",
    "class EvaluationConfig:\n",
    "    root_dir : Path\n",
    "    data_path : Path\n",
    "    model_path : Path\n",
    "    tokenizer_path : Path\n",
    "    metric_filename : Path\n",
    "    \n"
   ]
  },
  {
   "cell_type": "code",
   "execution_count": 5,
   "metadata": {},
   "outputs": [],
   "source": [
    "from textSummarizer.constants import *\n",
    "from textSummarizer.utils.common import read_yaml, create_dirs"
   ]
  },
  {
   "cell_type": "code",
   "execution_count": 6,
   "metadata": {},
   "outputs": [],
   "source": [
    "class ConfigurationManager:\n",
    "    def __init__(\n",
    "            self,\n",
    "            config_path = CONFIG_FILE_PATH,\n",
    "            params_path = PARAMS_FILE_PATH):\n",
    "        self.config = read_yaml(config_path)\n",
    "        self.params = read_yaml(params_path)\n",
    "        create_dirs([self.config.artifacts_root])\n",
    "\n",
    "    def get_model_evaluation_config(self) -> EvaluationConfig:\n",
    "        config  = self.config.model_evaluation\n",
    "        create_dirs([config.root_dir])\n",
    "\n",
    "        evaluation_config = EvaluationConfig(\n",
    "            root_dir = config.root_dir,\n",
    "            data_path = config.data_path,\n",
    "            model_path = config.model_path,\n",
    "            tokenizer_path = config.tokenizer_path,\n",
    "            metric_filename = config.metric_filename\n",
    "        )\n",
    "\n",
    "        return evaluation_config"
   ]
  },
  {
   "cell_type": "code",
   "execution_count": 7,
   "metadata": {},
   "outputs": [],
   "source": [
    "from transformers import AutoModelForSeq2SeqLM, AutoTokenizer\n",
    "from datasets import load_dataset, load_from_disk, load_metric\n",
    "import torch\n",
    "import pandas as pd\n",
    "from tqdm import tqdm"
   ]
  },
  {
   "cell_type": "code",
   "execution_count": 8,
   "metadata": {},
   "outputs": [],
   "source": [
    "class ModelEvaluation:\n",
    "    def __init__(self, config: EvaluationConfig) -> None:\n",
    "        self.config = config\n",
    "\n",
    "    \n",
    "    def generate_batch_sized_chunks(self, list_of_elements, batch_size):\n",
    "        \"\"\"Yield successive n-sized chunks from l.\"\"\"\n",
    "        for i in range(0, len(list_of_elements), batch_size):\n",
    "            yield list_of_elements[i:i + batch_size]\n",
    "\n",
    "    def calculate_metrics_on_test_ds(self, dataset, metric, model, tokenizer,\n",
    "                                     batch_size=16, device='cuda' if torch.cuda.is_available() else 'cpu',\n",
    "                                     column_text='article',\n",
    "                                     column_summary='summary'):\n",
    "        article_batch = list(self.generate_batch_sized_chunks(dataset[column_text], batch_size))\n",
    "        target_batch = list(self.generate_batch_sized_chunks(dataset[column_summary], batch_size))\n",
    "\n",
    "        for article_batch, target_batch in tqdm(\n",
    "            zip(article_batch, target_batch), total=len(article_batch)):\n",
    "            \n",
    "            inputs = tokenizer(article_batch, max_length=1024, truncation=True,\n",
    "                               paddings=\"max_length\", return_tensors=\"pt\")\n",
    "            \n",
    "            summaries = model.generate(inputs_ids=inputs['inputs_ids'].to(device),\n",
    "                                       attention_mask=inputs['attention_mask'].to(device),\n",
    "                                       length_penalty=0.8, num_beams=8, max_length=128)\n",
    "            \n",
    "\n",
    "            decoded_summaries = [tokenizer.decode(s, skip_special_tokens=True,\n",
    "                                                  clean_up_tokenization_spaces=True)\n",
    "                                 for s in summaries]\n",
    "\n",
    "            decoded_summaries = [d.replace(\"\", \" \") for d in decoded_summaries] \n",
    "\n",
    "            metric.add_batch(predictions=decoded_summaries, references=target_batch)\n",
    "\n",
    "            return metric.compute()\n",
    "        \n",
    "        def evaluate(self):\n",
    "            device = \"cuda\" if torch.cuda.is_available() else \"cpu\"\n",
    "            tokenizer = AutoTokenizer.from_pretrained(self.config.tokenizer_path)\n",
    "            model = AutoModelForSeq2SeqLM.from_pretrained(self.config.model_path).to(device)\n",
    "\n",
    "            dataset_samsum_pt = load_from_disk(self.config.data_path)\n",
    "\n",
    "            rouge_names = ['rouge1', 'rouge2', 'rougeL', 'rougeLsum']\n",
    "\n",
    "            rouge_metric = load_metric('rouge')\n",
    "\n",
    "            score = self.calculate_metric_on_test_ds(dataset_samsum_pt['test'][:10], rouge_metric,\n",
    "                                                     model, 2, tokenizer, device)\n",
    "            \n",
    "            rouge_dict = dict((rn, score[rn].mid.fmeasure) for rn in rouge_names)\n",
    "\n",
    "            df = pd.DataFrame(rouge_dict, index=['pegasus'] )\n",
    "            df.to_csv(self.config.metric_filename, index=False)"
   ]
  },
  {
   "cell_type": "code",
   "execution_count": null,
   "metadata": {},
   "outputs": [],
   "source": [
    "try: \n",
    "    config = ConfigurationManager()\n",
    "    evaluation_config = config.get_model_evaluation_config()\n",
    "    evaluation = ModelEvaluation(config=evaluation_config)\n",
    "    evaluation.evaluate()\n",
    "\n",
    "except Exception as e:\n",
    "     raise e\n"
   ]
  }
 ],
 "metadata": {
  "kernelspec": {
   "display_name": "TextSummerizer",
   "language": "python",
   "name": "python3"
  },
  "language_info": {
   "codemirror_mode": {
    "name": "ipython",
    "version": 3
   },
   "file_extension": ".py",
   "mimetype": "text/x-python",
   "name": "python",
   "nbconvert_exporter": "python",
   "pygments_lexer": "ipython3",
   "version": "3.11.4"
  }
 },
 "nbformat": 4,
 "nbformat_minor": 2
}
